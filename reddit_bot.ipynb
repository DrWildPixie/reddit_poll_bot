{
 "cells": [
  {
   "cell_type": "code",
   "execution_count": 151,
   "id": "executive-pension",
   "metadata": {},
   "outputs": [],
   "source": [
    "reddit = praw.Reddit(\n",
    "    client_id='' ,\n",
    "    client_secret='' ,\n",
    "    username='',\n",
    "    password='',\n",
    "    user_agent=''\n",
    "    )\n",
    " "
   ]
  },
  {
   "cell_type": "code",
   "execution_count": 154,
   "id": "enhanced-celtic",
   "metadata": {
    "scrolled": false
   },
   "outputs": [],
   "source": [
    "subreddit = reddit.subreddit(\"Egypt\")\n",
    "polls = []                        \n",
    "for submission in subreddit.new():\n",
    "    if 'poll' in submission.selftext:\n",
    "        polls.append(submission.url)\n",
    "        submission.reply(\"Your Poll have been checked \\n\\n I'm a Bot BEEB BEEB\\n\\n Am i a good bot?\"})\n"
   ]
  },
  {
   "cell_type": "code",
   "execution_count": 128,
   "id": "naked-roads",
   "metadata": {},
   "outputs": [
    {
     "name": "stdout",
     "output_type": "stream",
     "text": [
      "https://www.reddit.com/r/Egypt/comments/n1hgoo/how_many_books_do_you_read_per_year_outside/\n",
      "https://www.reddit.com/r/Egypt/comments/n1fixx/whats_your_political_identity/\n",
      "https://www.reddit.com/r/Egypt/comments/n14ggn/how_many_gurls_are_here/\n",
      "https://www.reddit.com/r/Egypt/comments/n0qy11/are_you_planning_on_getting_the_covid_vaccine/\n",
      "https://www.reddit.com/r/Egypt/comments/n0ga09/do_you_think_we_should_separate_religion_from/\n",
      "https://www.reddit.com/r/Egypt/comments/n02ttz/أي_نشيد_افضل/\n",
      "https://www.reddit.com/r/Egypt/comments/n01r89/بيعدي_عليك_مسحراتي/\n",
      "https://www.reddit.com/r/Egypt/comments/mzrqtl/how_religious_are_you/\n"
     ]
    }
   ],
   "source": [
    "for poll in polls:\n",
    "    print(poll)"
   ]
  },
  {
   "cell_type": "code",
   "execution_count": null,
   "id": "olympic-shakespeare",
   "metadata": {},
   "outputs": [],
   "source": []
  }
 ],
 "metadata": {
  "kernelspec": {
   "display_name": "Python 3",
   "language": "python",
   "name": "python3"
  },
  "language_info": {
   "codemirror_mode": {
    "name": "ipython",
    "version": 3
   },
   "file_extension": ".py",
   "mimetype": "text/x-python",
   "name": "python",
   "nbconvert_exporter": "python",
   "pygments_lexer": "ipython3",
   "version": "3.9.1"
  }
 },
 "nbformat": 4,
 "nbformat_minor": 5
}
